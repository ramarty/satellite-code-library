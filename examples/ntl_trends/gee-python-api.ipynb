{
 "cells": [
  {
   "cell_type": "markdown",
   "metadata": {},
   "source": [
    "# Google Earth Engine"
   ]
  },
  {
   "cell_type": "markdown",
   "metadata": {},
   "source": [
    "Structure:\n",
    "- Set virtual environment\n",
    "- Install GEE Python API\n",
    "- Initialize and authenticate GEE Project\n",
    "- Data import and visualization\n",
    "    - Basic map\n",
    "    - Country map\n",
    "    - Maps by year\n",
    "- Convert to dataframe\n",
    "    - Trends over time\n",
    "- Examples\n",
    "    - Night Time Lights\n",
    "    - Land Cover"
   ]
  },
  {
   "cell_type": "markdown",
   "metadata": {},
   "source": [
    "----------------------------"
   ]
  },
  {
   "cell_type": "markdown",
   "metadata": {},
   "source": [
    "#### 0) Set Virtual Environment"
   ]
  },
  {
   "cell_type": "code",
   "execution_count": 18,
   "metadata": {},
   "outputs": [
    {
     "data": {
      "text/html": [
       "\n",
       "            <style>\n",
       "                .geemap-dark {\n",
       "                    --jp-widgets-color: white;\n",
       "                    --jp-widgets-label-color: white;\n",
       "                    --jp-ui-font-color1: white;\n",
       "                    --jp-layout-color2: #454545;\n",
       "                    background-color: #383838;\n",
       "                }\n",
       "\n",
       "                .geemap-dark .jupyter-button {\n",
       "                    --jp-layout-color3: #383838;\n",
       "                }\n",
       "\n",
       "                .geemap-colab {\n",
       "                    background-color: var(--colab-primary-surface-color, white);\n",
       "                }\n",
       "\n",
       "                .geemap-colab .jupyter-button {\n",
       "                    --jp-layout-color3: var(--colab-primary-surface-color, white);\n",
       "                }\n",
       "            </style>\n",
       "            "
      ],
      "text/plain": [
       "<IPython.core.display.HTML object>"
      ]
     },
     "metadata": {},
     "output_type": "display_data"
    }
   ],
   "source": [
    "#pip install virtualenv\n",
    "#pip freeze > requirements.txt"
   ]
  },
  {
   "cell_type": "markdown",
   "metadata": {},
   "source": [
    "Open terminal and run: _python -m venv .venv_"
   ]
  },
  {
   "cell_type": "markdown",
   "metadata": {},
   "source": [
    "MacOS/Linux Users:\n",
    "- run source .venv/bin/activate"
   ]
  },
  {
   "cell_type": "markdown",
   "metadata": {},
   "source": [
    "Windows Users:\n",
    "- run .\\venv\\Scripts\\activate"
   ]
  },
  {
   "cell_type": "markdown",
   "metadata": {},
   "source": [
    "#### 1) Install GEE Python API"
   ]
  },
  {
   "cell_type": "code",
   "execution_count": 19,
   "metadata": {},
   "outputs": [
    {
     "data": {
      "text/html": [
       "\n",
       "            <style>\n",
       "                .geemap-dark {\n",
       "                    --jp-widgets-color: white;\n",
       "                    --jp-widgets-label-color: white;\n",
       "                    --jp-ui-font-color1: white;\n",
       "                    --jp-layout-color2: #454545;\n",
       "                    background-color: #383838;\n",
       "                }\n",
       "\n",
       "                .geemap-dark .jupyter-button {\n",
       "                    --jp-layout-color3: #383838;\n",
       "                }\n",
       "\n",
       "                .geemap-colab {\n",
       "                    background-color: var(--colab-primary-surface-color, white);\n",
       "                }\n",
       "\n",
       "                .geemap-colab .jupyter-button {\n",
       "                    --jp-layout-color3: var(--colab-primary-surface-color, white);\n",
       "                }\n",
       "            </style>\n",
       "            "
      ],
      "text/plain": [
       "<IPython.core.display.HTML object>"
      ]
     },
     "metadata": {},
     "output_type": "display_data"
    },
    {
     "name": "stdout",
     "output_type": "stream",
     "text": [
      "Requirement already satisfied: geemap in c:\\users\\wb572332\\appdata\\local\\programs\\python\\python312\\lib\\site-packages (0.34.5)\n",
      "Requirement already satisfied: bqplot in c:\\users\\wb572332\\appdata\\local\\programs\\python\\python312\\lib\\site-packages (from geemap) (0.12.43)\n",
      "Requirement already satisfied: colour in c:\\users\\wb572332\\appdata\\local\\programs\\python\\python312\\lib\\site-packages (from geemap) (0.1.5)\n",
      "Requirement already satisfied: earthengine-api>=1.0.0 in c:\\users\\wb572332\\appdata\\local\\programs\\python\\python312\\lib\\site-packages (from geemap) (1.1.3)\n",
      "Requirement already satisfied: eerepr>=0.0.4 in c:\\users\\wb572332\\appdata\\local\\programs\\python\\python312\\lib\\site-packages (from geemap) (0.0.4)\n",
      "Requirement already satisfied: folium>=0.17.0 in c:\\users\\wb572332\\appdata\\local\\programs\\python\\python312\\lib\\site-packages (from geemap) (0.17.0)\n",
      "Requirement already satisfied: geocoder in c:\\users\\wb572332\\appdata\\local\\programs\\python\\python312\\lib\\site-packages (from geemap) (1.38.1)\n",
      "Requirement already satisfied: ipyevents in c:\\users\\wb572332\\appdata\\local\\programs\\python\\python312\\lib\\site-packages (from geemap) (2.0.2)\n",
      "Requirement already satisfied: ipyfilechooser>=0.6.0 in c:\\users\\wb572332\\appdata\\local\\programs\\python\\python312\\lib\\site-packages (from geemap) (0.6.0)\n",
      "Requirement already satisfied: ipyleaflet>=0.19.2 in c:\\users\\wb572332\\appdata\\local\\programs\\python\\python312\\lib\\site-packages (from geemap) (0.19.2)\n",
      "Requirement already satisfied: ipytree in c:\\users\\wb572332\\appdata\\local\\programs\\python\\python312\\lib\\site-packages (from geemap) (0.2.2)\n",
      "Requirement already satisfied: matplotlib in c:\\users\\wb572332\\appdata\\local\\programs\\python\\python312\\lib\\site-packages (from geemap) (3.9.2)\n",
      "Requirement already satisfied: numpy in c:\\users\\wb572332\\appdata\\local\\programs\\python\\python312\\lib\\site-packages (from geemap) (2.1.1)\n",
      "Requirement already satisfied: pandas in c:\\users\\wb572332\\appdata\\local\\programs\\python\\python312\\lib\\site-packages (from geemap) (2.2.3)\n",
      "Requirement already satisfied: plotly in c:\\users\\wb572332\\appdata\\local\\programs\\python\\python312\\lib\\site-packages (from geemap) (5.24.1)\n",
      "Requirement already satisfied: pyperclip in c:\\users\\wb572332\\appdata\\local\\programs\\python\\python312\\lib\\site-packages (from geemap) (1.9.0)\n",
      "Requirement already satisfied: pyshp>=2.3.1 in c:\\users\\wb572332\\appdata\\local\\programs\\python\\python312\\lib\\site-packages (from geemap) (2.3.1)\n",
      "Requirement already satisfied: python-box in c:\\users\\wb572332\\appdata\\local\\programs\\python\\python312\\lib\\site-packages (from geemap) (7.2.0)\n",
      "Requirement already satisfied: scooby in c:\\users\\wb572332\\appdata\\local\\programs\\python\\python312\\lib\\site-packages (from geemap) (0.10.0)\n",
      "Requirement already satisfied: setuptools in c:\\users\\wb572332\\appdata\\local\\programs\\python\\python312\\lib\\site-packages (from geemap) (75.1.0)\n",
      "Requirement already satisfied: google-cloud-storage in c:\\users\\wb572332\\appdata\\local\\programs\\python\\python312\\lib\\site-packages (from earthengine-api>=1.0.0->geemap) (2.18.2)\n",
      "Requirement already satisfied: google-api-python-client>=1.12.1 in c:\\users\\wb572332\\appdata\\local\\programs\\python\\python312\\lib\\site-packages (from earthengine-api>=1.0.0->geemap) (2.148.0)\n",
      "Requirement already satisfied: google-auth>=1.4.1 in c:\\users\\wb572332\\appdata\\local\\programs\\python\\python312\\lib\\site-packages (from earthengine-api>=1.0.0->geemap) (2.35.0)\n",
      "Requirement already satisfied: google-auth-httplib2>=0.0.3 in c:\\users\\wb572332\\appdata\\local\\programs\\python\\python312\\lib\\site-packages (from earthengine-api>=1.0.0->geemap) (0.2.0)\n",
      "Requirement already satisfied: httplib2<1dev,>=0.9.2 in c:\\users\\wb572332\\appdata\\local\\programs\\python\\python312\\lib\\site-packages (from earthengine-api>=1.0.0->geemap) (0.22.0)\n",
      "Requirement already satisfied: requests in c:\\users\\wb572332\\appdata\\local\\programs\\python\\python312\\lib\\site-packages (from earthengine-api>=1.0.0->geemap) (2.32.3)\n",
      "Requirement already satisfied: branca>=0.6.0 in c:\\users\\wb572332\\appdata\\local\\programs\\python\\python312\\lib\\site-packages (from folium>=0.17.0->geemap) (0.8.0)\n",
      "Requirement already satisfied: jinja2>=2.9 in c:\\users\\wb572332\\appdata\\local\\programs\\python\\python312\\lib\\site-packages (from folium>=0.17.0->geemap) (3.1.4)\n",
      "Requirement already satisfied: xyzservices in c:\\users\\wb572332\\appdata\\local\\programs\\python\\python312\\lib\\site-packages (from folium>=0.17.0->geemap) (2024.9.0)\n",
      "Requirement already satisfied: ipywidgets in c:\\users\\wb572332\\appdata\\local\\programs\\python\\python312\\lib\\site-packages (from ipyfilechooser>=0.6.0->geemap) (8.1.5)\n",
      "Requirement already satisfied: jupyter-leaflet<0.20,>=0.19 in c:\\users\\wb572332\\appdata\\local\\programs\\python\\python312\\lib\\site-packages (from ipyleaflet>=0.19.2->geemap) (0.19.2)\n",
      "Requirement already satisfied: traittypes<3,>=0.2.1 in c:\\users\\wb572332\\appdata\\local\\programs\\python\\python312\\lib\\site-packages (from ipyleaflet>=0.19.2->geemap) (0.2.1)\n",
      "Requirement already satisfied: traitlets>=4.3.0 in c:\\users\\wb572332\\appdata\\roaming\\python\\python312\\site-packages (from bqplot->geemap) (5.14.3)\n",
      "Requirement already satisfied: python-dateutil>=2.8.2 in c:\\users\\wb572332\\appdata\\roaming\\python\\python312\\site-packages (from pandas->geemap) (2.9.0.post0)\n",
      "Requirement already satisfied: pytz>=2020.1 in c:\\users\\wb572332\\appdata\\local\\programs\\python\\python312\\lib\\site-packages (from pandas->geemap) (2024.2)\n",
      "Requirement already satisfied: tzdata>=2022.7 in c:\\users\\wb572332\\appdata\\local\\programs\\python\\python312\\lib\\site-packages (from pandas->geemap) (2024.2)\n",
      "Requirement already satisfied: click in c:\\users\\wb572332\\appdata\\local\\programs\\python\\python312\\lib\\site-packages (from geocoder->geemap) (8.1.7)\n",
      "Requirement already satisfied: future in c:\\users\\wb572332\\appdata\\local\\programs\\python\\python312\\lib\\site-packages (from geocoder->geemap) (1.0.0)\n",
      "Requirement already satisfied: ratelim in c:\\users\\wb572332\\appdata\\local\\programs\\python\\python312\\lib\\site-packages (from geocoder->geemap) (0.1.6)\n",
      "Requirement already satisfied: six in c:\\users\\wb572332\\appdata\\roaming\\python\\python312\\site-packages (from geocoder->geemap) (1.16.0)\n",
      "Requirement already satisfied: contourpy>=1.0.1 in c:\\users\\wb572332\\appdata\\local\\programs\\python\\python312\\lib\\site-packages (from matplotlib->geemap) (1.3.0)\n",
      "Requirement already satisfied: cycler>=0.10 in c:\\users\\wb572332\\appdata\\local\\programs\\python\\python312\\lib\\site-packages (from matplotlib->geemap) (0.12.1)\n",
      "Requirement already satisfied: fonttools>=4.22.0 in c:\\users\\wb572332\\appdata\\local\\programs\\python\\python312\\lib\\site-packages (from matplotlib->geemap) (4.54.1)\n",
      "Requirement already satisfied: kiwisolver>=1.3.1 in c:\\users\\wb572332\\appdata\\local\\programs\\python\\python312\\lib\\site-packages (from matplotlib->geemap) (1.4.7)\n",
      "Requirement already satisfied: packaging>=20.0 in c:\\users\\wb572332\\appdata\\roaming\\python\\python312\\site-packages (from matplotlib->geemap) (24.1)\n",
      "Requirement already satisfied: pillow>=8 in c:\\users\\wb572332\\appdata\\local\\programs\\python\\python312\\lib\\site-packages (from matplotlib->geemap) (10.4.0)\n",
      "Requirement already satisfied: pyparsing>=2.3.1 in c:\\users\\wb572332\\appdata\\local\\programs\\python\\python312\\lib\\site-packages (from matplotlib->geemap) (3.1.4)\n",
      "Requirement already satisfied: tenacity>=6.2.0 in c:\\users\\wb572332\\appdata\\local\\programs\\python\\python312\\lib\\site-packages (from plotly->geemap) (9.0.0)\n",
      "Requirement already satisfied: google-api-core!=2.0.*,!=2.1.*,!=2.2.*,!=2.3.0,<3.0.0.dev0,>=1.31.5 in c:\\users\\wb572332\\appdata\\local\\programs\\python\\python312\\lib\\site-packages (from google-api-python-client>=1.12.1->earthengine-api>=1.0.0->geemap) (2.20.0)\n",
      "Requirement already satisfied: uritemplate<5,>=3.0.1 in c:\\users\\wb572332\\appdata\\local\\programs\\python\\python312\\lib\\site-packages (from google-api-python-client>=1.12.1->earthengine-api>=1.0.0->geemap) (4.1.1)\n",
      "Requirement already satisfied: cachetools<6.0,>=2.0.0 in c:\\users\\wb572332\\appdata\\local\\programs\\python\\python312\\lib\\site-packages (from google-auth>=1.4.1->earthengine-api>=1.0.0->geemap) (5.5.0)\n",
      "Requirement already satisfied: pyasn1-modules>=0.2.1 in c:\\users\\wb572332\\appdata\\local\\programs\\python\\python312\\lib\\site-packages (from google-auth>=1.4.1->earthengine-api>=1.0.0->geemap) (0.4.1)\n",
      "Requirement already satisfied: rsa<5,>=3.1.4 in c:\\users\\wb572332\\appdata\\local\\programs\\python\\python312\\lib\\site-packages (from google-auth>=1.4.1->earthengine-api>=1.0.0->geemap) (4.9)\n",
      "Requirement already satisfied: comm>=0.1.3 in c:\\users\\wb572332\\appdata\\roaming\\python\\python312\\site-packages (from ipywidgets->ipyfilechooser>=0.6.0->geemap) (0.2.2)\n",
      "Requirement already satisfied: ipython>=6.1.0 in c:\\users\\wb572332\\appdata\\roaming\\python\\python312\\site-packages (from ipywidgets->ipyfilechooser>=0.6.0->geemap) (8.27.0)\n",
      "Requirement already satisfied: widgetsnbextension~=4.0.12 in c:\\users\\wb572332\\appdata\\local\\programs\\python\\python312\\lib\\site-packages (from ipywidgets->ipyfilechooser>=0.6.0->geemap) (4.0.13)\n",
      "Requirement already satisfied: jupyterlab-widgets~=3.0.12 in c:\\users\\wb572332\\appdata\\local\\programs\\python\\python312\\lib\\site-packages (from ipywidgets->ipyfilechooser>=0.6.0->geemap) (3.0.13)\n",
      "Requirement already satisfied: MarkupSafe>=2.0 in c:\\users\\wb572332\\appdata\\local\\programs\\python\\python312\\lib\\site-packages (from jinja2>=2.9->folium>=0.17.0->geemap) (2.1.5)\n",
      "Requirement already satisfied: colorama in c:\\users\\wb572332\\appdata\\roaming\\python\\python312\\site-packages (from click->geocoder->geemap) (0.4.6)\n",
      "Requirement already satisfied: google-cloud-core<3.0dev,>=2.3.0 in c:\\users\\wb572332\\appdata\\local\\programs\\python\\python312\\lib\\site-packages (from google-cloud-storage->earthengine-api>=1.0.0->geemap) (2.4.1)\n",
      "Requirement already satisfied: google-resumable-media>=2.7.2 in c:\\users\\wb572332\\appdata\\local\\programs\\python\\python312\\lib\\site-packages (from google-cloud-storage->earthengine-api>=1.0.0->geemap) (2.7.2)\n",
      "Requirement already satisfied: google-crc32c<2.0dev,>=1.0 in c:\\users\\wb572332\\appdata\\local\\programs\\python\\python312\\lib\\site-packages (from google-cloud-storage->earthengine-api>=1.0.0->geemap) (1.6.0)\n",
      "Requirement already satisfied: charset-normalizer<4,>=2 in c:\\users\\wb572332\\appdata\\local\\programs\\python\\python312\\lib\\site-packages (from requests->earthengine-api>=1.0.0->geemap) (3.3.2)\n",
      "Requirement already satisfied: idna<4,>=2.5 in c:\\users\\wb572332\\appdata\\local\\programs\\python\\python312\\lib\\site-packages (from requests->earthengine-api>=1.0.0->geemap) (3.10)\n",
      "Requirement already satisfied: urllib3<3,>=1.21.1 in c:\\users\\wb572332\\appdata\\local\\programs\\python\\python312\\lib\\site-packages (from requests->earthengine-api>=1.0.0->geemap) (2.2.3)\n",
      "Requirement already satisfied: certifi>=2017.4.17 in c:\\users\\wb572332\\appdata\\local\\programs\\python\\python312\\lib\\site-packages (from requests->earthengine-api>=1.0.0->geemap) (2024.8.30)\n",
      "Requirement already satisfied: decorator in c:\\users\\wb572332\\appdata\\roaming\\python\\python312\\site-packages (from ratelim->geocoder->geemap) (5.1.1)\n",
      "Requirement already satisfied: googleapis-common-protos<2.0.dev0,>=1.56.2 in c:\\users\\wb572332\\appdata\\local\\programs\\python\\python312\\lib\\site-packages (from google-api-core!=2.0.*,!=2.1.*,!=2.2.*,!=2.3.0,<3.0.0.dev0,>=1.31.5->google-api-python-client>=1.12.1->earthengine-api>=1.0.0->geemap) (1.65.0)\n",
      "Requirement already satisfied: protobuf!=3.20.0,!=3.20.1,!=4.21.0,!=4.21.1,!=4.21.2,!=4.21.3,!=4.21.4,!=4.21.5,<6.0.0.dev0,>=3.19.5 in c:\\users\\wb572332\\appdata\\local\\programs\\python\\python312\\lib\\site-packages (from google-api-core!=2.0.*,!=2.1.*,!=2.2.*,!=2.3.0,<3.0.0.dev0,>=1.31.5->google-api-python-client>=1.12.1->earthengine-api>=1.0.0->geemap) (5.28.2)\n",
      "Requirement already satisfied: proto-plus<2.0.0dev,>=1.22.3 in c:\\users\\wb572332\\appdata\\local\\programs\\python\\python312\\lib\\site-packages (from google-api-core!=2.0.*,!=2.1.*,!=2.2.*,!=2.3.0,<3.0.0.dev0,>=1.31.5->google-api-python-client>=1.12.1->earthengine-api>=1.0.0->geemap) (1.24.0)\n",
      "Requirement already satisfied: jedi>=0.16 in c:\\users\\wb572332\\appdata\\roaming\\python\\python312\\site-packages (from ipython>=6.1.0->ipywidgets->ipyfilechooser>=0.6.0->geemap) (0.19.1)\n",
      "Requirement already satisfied: matplotlib-inline in c:\\users\\wb572332\\appdata\\roaming\\python\\python312\\site-packages (from ipython>=6.1.0->ipywidgets->ipyfilechooser>=0.6.0->geemap) (0.1.7)\n",
      "Requirement already satisfied: prompt-toolkit<3.1.0,>=3.0.41 in c:\\users\\wb572332\\appdata\\roaming\\python\\python312\\site-packages (from ipython>=6.1.0->ipywidgets->ipyfilechooser>=0.6.0->geemap) (3.0.48)\n",
      "Requirement already satisfied: pygments>=2.4.0 in c:\\users\\wb572332\\appdata\\roaming\\python\\python312\\site-packages (from ipython>=6.1.0->ipywidgets->ipyfilechooser>=0.6.0->geemap) (2.18.0)\n",
      "Requirement already satisfied: stack-data in c:\\users\\wb572332\\appdata\\roaming\\python\\python312\\site-packages (from ipython>=6.1.0->ipywidgets->ipyfilechooser>=0.6.0->geemap) (0.6.3)\n",
      "Requirement already satisfied: pyasn1<0.7.0,>=0.4.6 in c:\\users\\wb572332\\appdata\\local\\programs\\python\\python312\\lib\\site-packages (from pyasn1-modules>=0.2.1->google-auth>=1.4.1->earthengine-api>=1.0.0->geemap) (0.6.1)\n",
      "Requirement already satisfied: parso<0.9.0,>=0.8.3 in c:\\users\\wb572332\\appdata\\roaming\\python\\python312\\site-packages (from jedi>=0.16->ipython>=6.1.0->ipywidgets->ipyfilechooser>=0.6.0->geemap) (0.8.4)\n",
      "Requirement already satisfied: wcwidth in c:\\users\\wb572332\\appdata\\roaming\\python\\python312\\site-packages (from prompt-toolkit<3.1.0,>=3.0.41->ipython>=6.1.0->ipywidgets->ipyfilechooser>=0.6.0->geemap) (0.2.13)\n",
      "Requirement already satisfied: executing>=1.2.0 in c:\\users\\wb572332\\appdata\\roaming\\python\\python312\\site-packages (from stack-data->ipython>=6.1.0->ipywidgets->ipyfilechooser>=0.6.0->geemap) (2.1.0)\n",
      "Requirement already satisfied: asttokens>=2.1.0 in c:\\users\\wb572332\\appdata\\roaming\\python\\python312\\site-packages (from stack-data->ipython>=6.1.0->ipywidgets->ipyfilechooser>=0.6.0->geemap) (2.4.1)\n",
      "Requirement already satisfied: pure-eval in c:\\users\\wb572332\\appdata\\roaming\\python\\python312\\site-packages (from stack-data->ipython>=6.1.0->ipywidgets->ipyfilechooser>=0.6.0->geemap) (0.2.3)\n",
      "Note: you may need to restart the kernel to use updated packages.\n"
     ]
    }
   ],
   "source": [
    "pip install geemap"
   ]
  },
  {
   "cell_type": "markdown",
   "metadata": {},
   "source": [
    "#### 2) Initialize and authenticate Google Earth Engine Project "
   ]
  },
  {
   "cell_type": "markdown",
   "metadata": {},
   "source": [
    "_ee.Authenticate_ will open a browser window where a new project can be created on GEE. Copy the 'key' and enter in the box here as prompted to connect."
   ]
  },
  {
   "cell_type": "code",
   "execution_count": 20,
   "metadata": {},
   "outputs": [
    {
     "data": {
      "text/html": [
       "\n",
       "            <style>\n",
       "                .geemap-dark {\n",
       "                    --jp-widgets-color: white;\n",
       "                    --jp-widgets-label-color: white;\n",
       "                    --jp-ui-font-color1: white;\n",
       "                    --jp-layout-color2: #454545;\n",
       "                    background-color: #383838;\n",
       "                }\n",
       "\n",
       "                .geemap-dark .jupyter-button {\n",
       "                    --jp-layout-color3: #383838;\n",
       "                }\n",
       "\n",
       "                .geemap-colab {\n",
       "                    background-color: var(--colab-primary-surface-color, white);\n",
       "                }\n",
       "\n",
       "                .geemap-colab .jupyter-button {\n",
       "                    --jp-layout-color3: var(--colab-primary-surface-color, white);\n",
       "                }\n",
       "            </style>\n",
       "            "
      ],
      "text/plain": [
       "<IPython.core.display.HTML object>"
      ]
     },
     "metadata": {},
     "output_type": "display_data"
    }
   ],
   "source": [
    "import geemap, ee\n",
    "import ipyleaflet \n",
    "import seaborn as sns\n",
    "import pandas as pd\n",
    "from matplotlib import pyplot as plt"
   ]
  },
  {
   "cell_type": "code",
   "execution_count": 21,
   "metadata": {},
   "outputs": [
    {
     "data": {
      "text/html": [
       "\n",
       "            <style>\n",
       "                .geemap-dark {\n",
       "                    --jp-widgets-color: white;\n",
       "                    --jp-widgets-label-color: white;\n",
       "                    --jp-ui-font-color1: white;\n",
       "                    --jp-layout-color2: #454545;\n",
       "                    background-color: #383838;\n",
       "                }\n",
       "\n",
       "                .geemap-dark .jupyter-button {\n",
       "                    --jp-layout-color3: #383838;\n",
       "                }\n",
       "\n",
       "                .geemap-colab {\n",
       "                    background-color: var(--colab-primary-surface-color, white);\n",
       "                }\n",
       "\n",
       "                .geemap-colab .jupyter-button {\n",
       "                    --jp-layout-color3: var(--colab-primary-surface-color, white);\n",
       "                }\n",
       "            </style>\n",
       "            "
      ],
      "text/plain": [
       "<IPython.core.display.HTML object>"
      ]
     },
     "metadata": {},
     "output_type": "display_data"
    },
    {
     "data": {
      "text/plain": [
       "True"
      ]
     },
     "execution_count": 21,
     "metadata": {},
     "output_type": "execute_result"
    }
   ],
   "source": [
    "ee.Authenticate()"
   ]
  },
  {
   "cell_type": "markdown",
   "metadata": {},
   "source": [
    "Initialize the project using ee.Initialize(). Additionally, you may also enter the name of your GEE project: _ee.Initialize(project = 'your project')_"
   ]
  },
  {
   "cell_type": "code",
   "execution_count": 22,
   "metadata": {},
   "outputs": [
    {
     "data": {
      "text/html": [
       "\n",
       "            <style>\n",
       "                .geemap-dark {\n",
       "                    --jp-widgets-color: white;\n",
       "                    --jp-widgets-label-color: white;\n",
       "                    --jp-ui-font-color1: white;\n",
       "                    --jp-layout-color2: #454545;\n",
       "                    background-color: #383838;\n",
       "                }\n",
       "\n",
       "                .geemap-dark .jupyter-button {\n",
       "                    --jp-layout-color3: #383838;\n",
       "                }\n",
       "\n",
       "                .geemap-colab {\n",
       "                    background-color: var(--colab-primary-surface-color, white);\n",
       "                }\n",
       "\n",
       "                .geemap-colab .jupyter-button {\n",
       "                    --jp-layout-color3: var(--colab-primary-surface-color, white);\n",
       "                }\n",
       "            </style>\n",
       "            "
      ],
      "text/plain": [
       "<IPython.core.display.HTML object>"
      ]
     },
     "metadata": {},
     "output_type": "display_data"
    }
   ],
   "source": [
    "ee.Initialize()"
   ]
  },
  {
   "cell_type": "markdown",
   "metadata": {},
   "source": [
    "#### 3) Import data from GEE"
   ]
  },
  {
   "cell_type": "markdown",
   "metadata": {},
   "source": [
    "3.1) Select data source"
   ]
  },
  {
   "cell_type": "markdown",
   "metadata": {},
   "source": [
    "Data catalog: https://developers.google.com/earth-engine/datasets"
   ]
  },
  {
   "cell_type": "markdown",
   "metadata": {},
   "source": [
    "Enter the Image Collection ID in _ee.ImageCollection_"
   ]
  },
  {
   "cell_type": "code",
   "execution_count": 23,
   "metadata": {},
   "outputs": [
    {
     "data": {
      "text/html": [
       "\n",
       "            <style>\n",
       "                .geemap-dark {\n",
       "                    --jp-widgets-color: white;\n",
       "                    --jp-widgets-label-color: white;\n",
       "                    --jp-ui-font-color1: white;\n",
       "                    --jp-layout-color2: #454545;\n",
       "                    background-color: #383838;\n",
       "                }\n",
       "\n",
       "                .geemap-dark .jupyter-button {\n",
       "                    --jp-layout-color3: #383838;\n",
       "                }\n",
       "\n",
       "                .geemap-colab {\n",
       "                    background-color: var(--colab-primary-surface-color, white);\n",
       "                }\n",
       "\n",
       "                .geemap-colab .jupyter-button {\n",
       "                    --jp-layout-color3: var(--colab-primary-surface-color, white);\n",
       "                }\n",
       "            </style>\n",
       "            "
      ],
      "text/plain": [
       "<IPython.core.display.HTML object>"
      ]
     },
     "metadata": {},
     "output_type": "display_data"
    }
   ],
   "source": [
    "data = ee.ImageCollection(\"NOAA/VIIRS/DNB/MONTHLY_V1/VCMSLCFG\")"
   ]
  },
  {
   "cell_type": "markdown",
   "metadata": {},
   "source": [
    "Set parameters:"
   ]
  },
  {
   "cell_type": "code",
   "execution_count": 24,
   "metadata": {},
   "outputs": [
    {
     "data": {
      "text/html": [
       "\n",
       "            <style>\n",
       "                .geemap-dark {\n",
       "                    --jp-widgets-color: white;\n",
       "                    --jp-widgets-label-color: white;\n",
       "                    --jp-ui-font-color1: white;\n",
       "                    --jp-layout-color2: #454545;\n",
       "                    background-color: #383838;\n",
       "                }\n",
       "\n",
       "                .geemap-dark .jupyter-button {\n",
       "                    --jp-layout-color3: #383838;\n",
       "                }\n",
       "\n",
       "                .geemap-colab {\n",
       "                    background-color: var(--colab-primary-surface-color, white);\n",
       "                }\n",
       "\n",
       "                .geemap-colab .jupyter-button {\n",
       "                    --jp-layout-color3: var(--colab-primary-surface-color, white);\n",
       "                }\n",
       "            </style>\n",
       "            "
      ],
      "text/plain": [
       "<IPython.core.display.HTML object>"
      ]
     },
     "metadata": {},
     "output_type": "display_data"
    }
   ],
   "source": [
    "latitude = 0.02\n",
    "longitude = 37.9\n",
    "zoom = 6\n",
    "start_date = '2024-01-01'\n",
    "end_date = '2024-05-01'\n",
    "band = 'avg_rad'"
   ]
  },
  {
   "cell_type": "markdown",
   "metadata": {},
   "source": [
    "3.2) Generate a basic map"
   ]
  },
  {
   "cell_type": "code",
   "execution_count": 25,
   "metadata": {},
   "outputs": [
    {
     "data": {
      "text/html": [
       "\n",
       "            <style>\n",
       "                .geemap-dark {\n",
       "                    --jp-widgets-color: white;\n",
       "                    --jp-widgets-label-color: white;\n",
       "                    --jp-ui-font-color1: white;\n",
       "                    --jp-layout-color2: #454545;\n",
       "                    background-color: #383838;\n",
       "                }\n",
       "\n",
       "                .geemap-dark .jupyter-button {\n",
       "                    --jp-layout-color3: #383838;\n",
       "                }\n",
       "\n",
       "                .geemap-colab {\n",
       "                    background-color: var(--colab-primary-surface-color, white);\n",
       "                }\n",
       "\n",
       "                .geemap-colab .jupyter-button {\n",
       "                    --jp-layout-color3: var(--colab-primary-surface-color, white);\n",
       "                }\n",
       "            </style>\n",
       "            "
      ],
      "text/plain": [
       "<IPython.core.display.HTML object>"
      ]
     },
     "metadata": {},
     "output_type": "display_data"
    }
   ],
   "source": [
    "def gen_map(start, end, data, band, layername):\n",
    "    \"\"\"\n",
    "    This function plots 1) basemap and 2) data from GEE. \n",
    "    First, the data source is filtered for the band (or variable) and date range.\n",
    "    Second, the basemap is plotted and layered with GEE data.\n",
    "    \"\"\"\n",
    "    source_filtered = data.select(band).filter(ee.Filter.date(start, end))\n",
    "\n",
    "    source_filtered_map = geemap.Map()\n",
    "    source_filtered_map.addLayer(source_filtered, {'min': 0, 'max': 10, 'palette': ['black', 'white']}, name = f'{layername} [{start} to {end}', opacity = 0.8)\n",
    "    source_filtered_map.addLayerControl()\n",
    "    \n",
    "    return source_filtered_map"
   ]
  },
  {
   "cell_type": "code",
   "execution_count": 26,
   "metadata": {},
   "outputs": [
    {
     "data": {
      "text/html": [
       "\n",
       "            <style>\n",
       "                .geemap-dark {\n",
       "                    --jp-widgets-color: white;\n",
       "                    --jp-widgets-label-color: white;\n",
       "                    --jp-ui-font-color1: white;\n",
       "                    --jp-layout-color2: #454545;\n",
       "                    background-color: #383838;\n",
       "                }\n",
       "\n",
       "                .geemap-dark .jupyter-button {\n",
       "                    --jp-layout-color3: #383838;\n",
       "                }\n",
       "\n",
       "                .geemap-colab {\n",
       "                    background-color: var(--colab-primary-surface-color, white);\n",
       "                }\n",
       "\n",
       "                .geemap-colab .jupyter-button {\n",
       "                    --jp-layout-color3: var(--colab-primary-surface-color, white);\n",
       "                }\n",
       "            </style>\n",
       "            "
      ],
      "text/plain": [
       "<IPython.core.display.HTML object>"
      ]
     },
     "metadata": {},
     "output_type": "display_data"
    },
    {
     "data": {
      "application/vnd.jupyter.widget-view+json": {
       "model_id": "2608167d19f04fab81a0b91d2fa51e5c",
       "version_major": 2,
       "version_minor": 0
      },
      "text/plain": [
       "Map(center=[0, 0], controls=(WidgetControl(options=['position', 'transparent_bg'], widget=SearchDataGUI(childr…"
      ]
     },
     "execution_count": 26,
     "metadata": {},
     "output_type": "execute_result"
    }
   ],
   "source": [
    "gen_map(start_date, end_date, data, 'avg_rad', 'VIIRS')"
   ]
  },
  {
   "cell_type": "markdown",
   "metadata": {},
   "source": [
    "3.3) Generate country map"
   ]
  },
  {
   "cell_type": "code",
   "execution_count": 27,
   "metadata": {},
   "outputs": [
    {
     "data": {
      "text/html": [
       "\n",
       "            <style>\n",
       "                .geemap-dark {\n",
       "                    --jp-widgets-color: white;\n",
       "                    --jp-widgets-label-color: white;\n",
       "                    --jp-ui-font-color1: white;\n",
       "                    --jp-layout-color2: #454545;\n",
       "                    background-color: #383838;\n",
       "                }\n",
       "\n",
       "                .geemap-dark .jupyter-button {\n",
       "                    --jp-layout-color3: #383838;\n",
       "                }\n",
       "\n",
       "                .geemap-colab {\n",
       "                    background-color: var(--colab-primary-surface-color, white);\n",
       "                }\n",
       "\n",
       "                .geemap-colab .jupyter-button {\n",
       "                    --jp-layout-color3: var(--colab-primary-surface-color, white);\n",
       "                }\n",
       "            </style>\n",
       "            "
      ],
      "text/plain": [
       "<IPython.core.display.HTML object>"
      ]
     },
     "metadata": {},
     "output_type": "display_data"
    }
   ],
   "source": [
    "def gen_map_poi_country(latitude, longitude, zoom, start, end, data, band, countryname, layername):\n",
    "    \"\"\"\n",
    "    This function plots 1) basemap and 2) data from GEE for the country of interest.\n",
    "    First, the data is filtered for the band (or variable) and date range.\n",
    "    Second, country boundary is fetched from GEE and data is clipped to the country boundary.\n",
    "    Third, basemap is plotted centered on the latitude/longitude provided.\n",
    "    Fourth, basemap is layered with GEE data.\n",
    "    \"\"\"\n",
    "    \n",
    "    source_filtered = data.select(band).filter(ee.Filter.date(start, end))\n",
    "\n",
    "    poi = ee.FeatureCollection('USDOS/LSIB/2017').filter(ee.Filter.eq('COUNTRY_NA',countryname))\n",
    "    source_filtered_clip = source_filtered.median().clipToCollection(poi)\n",
    "    \n",
    "    source_filtered_map = geemap.Map(center = [latitude, longitude], zoom = zoom)\n",
    "\n",
    "    source_filtered_map.addLayer(source_filtered_clip, {'min': 0, 'max': 10, 'palette': ['black', 'white']}, name = f'{layername} [{start} to {end}', opacity = 0.8)\n",
    "    source_filtered_map.addLayerControl()\n",
    "    \n",
    "    return source_filtered_map"
   ]
  },
  {
   "cell_type": "code",
   "execution_count": 28,
   "metadata": {},
   "outputs": [
    {
     "data": {
      "text/html": [
       "\n",
       "            <style>\n",
       "                .geemap-dark {\n",
       "                    --jp-widgets-color: white;\n",
       "                    --jp-widgets-label-color: white;\n",
       "                    --jp-ui-font-color1: white;\n",
       "                    --jp-layout-color2: #454545;\n",
       "                    background-color: #383838;\n",
       "                }\n",
       "\n",
       "                .geemap-dark .jupyter-button {\n",
       "                    --jp-layout-color3: #383838;\n",
       "                }\n",
       "\n",
       "                .geemap-colab {\n",
       "                    background-color: var(--colab-primary-surface-color, white);\n",
       "                }\n",
       "\n",
       "                .geemap-colab .jupyter-button {\n",
       "                    --jp-layout-color3: var(--colab-primary-surface-color, white);\n",
       "                }\n",
       "            </style>\n",
       "            "
      ],
      "text/plain": [
       "<IPython.core.display.HTML object>"
      ]
     },
     "metadata": {},
     "output_type": "display_data"
    },
    {
     "data": {
      "application/vnd.jupyter.widget-view+json": {
       "model_id": "82ef65211da2435b8d85a1002578c0d1",
       "version_major": 2,
       "version_minor": 0
      },
      "text/plain": [
       "Map(center=[0.02, 37.9], controls=(WidgetControl(options=['position', 'transparent_bg'], widget=SearchDataGUI(…"
      ]
     },
     "execution_count": 28,
     "metadata": {},
     "output_type": "execute_result"
    }
   ],
   "source": [
    "gen_map_poi_country(latitude, longitude, zoom, start_date, end_date, data, band, 'Kenya', 'VIIRS Kenya')"
   ]
  },
  {
   "cell_type": "markdown",
   "metadata": {},
   "source": [
    "3.4) Generate country map for multiple years"
   ]
  },
  {
   "cell_type": "code",
   "execution_count": 29,
   "metadata": {},
   "outputs": [
    {
     "data": {
      "text/html": [
       "\n",
       "            <style>\n",
       "                .geemap-dark {\n",
       "                    --jp-widgets-color: white;\n",
       "                    --jp-widgets-label-color: white;\n",
       "                    --jp-ui-font-color1: white;\n",
       "                    --jp-layout-color2: #454545;\n",
       "                    background-color: #383838;\n",
       "                }\n",
       "\n",
       "                .geemap-dark .jupyter-button {\n",
       "                    --jp-layout-color3: #383838;\n",
       "                }\n",
       "\n",
       "                .geemap-colab {\n",
       "                    background-color: var(--colab-primary-surface-color, white);\n",
       "                }\n",
       "\n",
       "                .geemap-colab .jupyter-button {\n",
       "                    --jp-layout-color3: var(--colab-primary-surface-color, white);\n",
       "                }\n",
       "            </style>\n",
       "            "
      ],
      "text/plain": [
       "<IPython.core.display.HTML object>"
      ]
     },
     "metadata": {},
     "output_type": "display_data"
    }
   ],
   "source": [
    "def gen_map_poi_yearly(latitude, longitude, zoom, year1, year2, data, band, countryname, layername):\n",
    "    \"\"\"\n",
    "    This function plots 1) basemap and 2) data from GEE for the country of interest for multiple years.\n",
    "    First, the data is filtered for the band (or variable) and years.\n",
    "    Second, country boundary is fetched from GEE and the filtered datasets are clipped to the country boundary.\n",
    "    Third, basemap is plotted centered on the latitude/longitude provided.\n",
    "    Fourth, basemap is layered with GEE data.\n",
    "    \"\"\"    \n",
    "    source_filtered1 = data.select(band).filter(ee.Filter.calendarRange(year1, year1, 'year'))\n",
    "    source_filtered2 = data.select(band).filter(ee.Filter.calendarRange(year2, year2, 'year'))\n",
    "\n",
    "    poi = ee.FeatureCollection('USDOS/LSIB/2017').filter(ee.Filter.eq('COUNTRY_NA',countryname))\n",
    "    source_filtered_clip1 = source_filtered1.median().clipToCollection(poi)\n",
    "    source_filtered_clip2 = source_filtered2.median().clipToCollection(poi)\n",
    "    \n",
    "    source_filtered_map = geemap.Map(center = [latitude, longitude], zoom = zoom)\n",
    "\n",
    "    source_filtered_map.addLayer(source_filtered_clip1, {'min': 0, 'max': 10, 'palette': ['black', 'white']}, name = f'{layername} [{year1}]', opacity = 0.8)\n",
    "    source_filtered_map.addLayer(source_filtered_clip2, {'min': 0, 'max': 10, 'palette': ['black', 'white']}, name = f'{layername} [{year2}]', opacity = 0.8)\n",
    "    \n",
    "    source_filtered_map.addLayerControl()\n",
    "    \n",
    "    return source_filtered_map"
   ]
  },
  {
   "cell_type": "code",
   "execution_count": 30,
   "metadata": {},
   "outputs": [
    {
     "data": {
      "text/html": [
       "\n",
       "            <style>\n",
       "                .geemap-dark {\n",
       "                    --jp-widgets-color: white;\n",
       "                    --jp-widgets-label-color: white;\n",
       "                    --jp-ui-font-color1: white;\n",
       "                    --jp-layout-color2: #454545;\n",
       "                    background-color: #383838;\n",
       "                }\n",
       "\n",
       "                .geemap-dark .jupyter-button {\n",
       "                    --jp-layout-color3: #383838;\n",
       "                }\n",
       "\n",
       "                .geemap-colab {\n",
       "                    background-color: var(--colab-primary-surface-color, white);\n",
       "                }\n",
       "\n",
       "                .geemap-colab .jupyter-button {\n",
       "                    --jp-layout-color3: var(--colab-primary-surface-color, white);\n",
       "                }\n",
       "            </style>\n",
       "            "
      ],
      "text/plain": [
       "<IPython.core.display.HTML object>"
      ]
     },
     "metadata": {},
     "output_type": "display_data"
    },
    {
     "data": {
      "application/vnd.jupyter.widget-view+json": {
       "model_id": "9faf2fef304847e790a103d2077f9d41",
       "version_major": 2,
       "version_minor": 0
      },
      "text/plain": [
       "Map(center=[0.02, 37.9], controls=(WidgetControl(options=['position', 'transparent_bg'], widget=SearchDataGUI(…"
      ]
     },
     "execution_count": 30,
     "metadata": {},
     "output_type": "execute_result"
    }
   ],
   "source": [
    "gen_map_poi_yearly(latitude, longitude, zoom, 2014, 2024, data, band, 'Kenya', 'VIIRS Kenya')"
   ]
  },
  {
   "cell_type": "markdown",
   "metadata": {},
   "source": [
    "#### 4) Convert to dataframe"
   ]
  },
  {
   "cell_type": "code",
   "execution_count": 31,
   "metadata": {},
   "outputs": [
    {
     "data": {
      "text/html": [
       "\n",
       "            <style>\n",
       "                .geemap-dark {\n",
       "                    --jp-widgets-color: white;\n",
       "                    --jp-widgets-label-color: white;\n",
       "                    --jp-ui-font-color1: white;\n",
       "                    --jp-layout-color2: #454545;\n",
       "                    background-color: #383838;\n",
       "                }\n",
       "\n",
       "                .geemap-dark .jupyter-button {\n",
       "                    --jp-layout-color3: #383838;\n",
       "                }\n",
       "\n",
       "                .geemap-colab {\n",
       "                    background-color: var(--colab-primary-surface-color, white);\n",
       "                }\n",
       "\n",
       "                .geemap-colab .jupyter-button {\n",
       "                    --jp-layout-color3: var(--colab-primary-surface-color, white);\n",
       "                }\n",
       "            </style>\n",
       "            "
      ],
      "text/plain": [
       "<IPython.core.display.HTML object>"
      ]
     },
     "metadata": {},
     "output_type": "display_data"
    }
   ],
   "source": [
    "#ee.Date(data.first().get('system:time_start')).format(\"yyyy-MM-dd\")"
   ]
  },
  {
   "cell_type": "code",
   "execution_count": 32,
   "metadata": {},
   "outputs": [
    {
     "data": {
      "text/html": [
       "\n",
       "            <style>\n",
       "                .geemap-dark {\n",
       "                    --jp-widgets-color: white;\n",
       "                    --jp-widgets-label-color: white;\n",
       "                    --jp-ui-font-color1: white;\n",
       "                    --jp-layout-color2: #454545;\n",
       "                    background-color: #383838;\n",
       "                }\n",
       "\n",
       "                .geemap-dark .jupyter-button {\n",
       "                    --jp-layout-color3: #383838;\n",
       "                }\n",
       "\n",
       "                .geemap-colab {\n",
       "                    background-color: var(--colab-primary-surface-color, white);\n",
       "                }\n",
       "\n",
       "                .geemap-colab .jupyter-button {\n",
       "                    --jp-layout-color3: var(--colab-primary-surface-color, white);\n",
       "                }\n",
       "            </style>\n",
       "            "
      ],
      "text/plain": [
       "<IPython.core.display.HTML object>"
      ]
     },
     "metadata": {},
     "output_type": "display_data"
    },
    {
     "data": {
      "text/html": [
       "<div>\n",
       "<style scoped>\n",
       "    .dataframe tbody tr th:only-of-type {\n",
       "        vertical-align: middle;\n",
       "    }\n",
       "\n",
       "    .dataframe tbody tr th {\n",
       "        vertical-align: top;\n",
       "    }\n",
       "\n",
       "    .dataframe thead th {\n",
       "        text-align: right;\n",
       "    }\n",
       "</style>\n",
       "<table border=\"1\" class=\"dataframe\">\n",
       "  <thead>\n",
       "    <tr style=\"text-align: right;\">\n",
       "      <th></th>\n",
       "      <th>id</th>\n",
       "      <th>longitude</th>\n",
       "      <th>latitude</th>\n",
       "      <th>time</th>\n",
       "      <th>avg_rad</th>\n",
       "      <th>cf_cvg</th>\n",
       "      <th>datetime</th>\n",
       "    </tr>\n",
       "  </thead>\n",
       "  <tbody>\n",
       "    <tr>\n",
       "      <th>0</th>\n",
       "      <td>20140101</td>\n",
       "      <td>37.902168</td>\n",
       "      <td>0.020212</td>\n",
       "      <td>1388534400000</td>\n",
       "      <td>0.025511</td>\n",
       "      <td>15</td>\n",
       "      <td>2014-01-01</td>\n",
       "    </tr>\n",
       "    <tr>\n",
       "      <th>1</th>\n",
       "      <td>20140201</td>\n",
       "      <td>37.902168</td>\n",
       "      <td>0.020212</td>\n",
       "      <td>1391212800000</td>\n",
       "      <td>0.08641</td>\n",
       "      <td>12</td>\n",
       "      <td>2014-02-01</td>\n",
       "    </tr>\n",
       "    <tr>\n",
       "      <th>2</th>\n",
       "      <td>20140301</td>\n",
       "      <td>37.902168</td>\n",
       "      <td>0.020212</td>\n",
       "      <td>1393632000000</td>\n",
       "      <td>0.327529</td>\n",
       "      <td>11</td>\n",
       "      <td>2014-03-01</td>\n",
       "    </tr>\n",
       "    <tr>\n",
       "      <th>3</th>\n",
       "      <td>20140401</td>\n",
       "      <td>37.902168</td>\n",
       "      <td>0.020212</td>\n",
       "      <td>1396310400000</td>\n",
       "      <td>0.263549</td>\n",
       "      <td>7</td>\n",
       "      <td>2014-04-01</td>\n",
       "    </tr>\n",
       "    <tr>\n",
       "      <th>4</th>\n",
       "      <td>20140501</td>\n",
       "      <td>37.902168</td>\n",
       "      <td>0.020212</td>\n",
       "      <td>1398902400000</td>\n",
       "      <td>0.031875</td>\n",
       "      <td>7</td>\n",
       "      <td>2014-05-01</td>\n",
       "    </tr>\n",
       "    <tr>\n",
       "      <th>...</th>\n",
       "      <td>...</td>\n",
       "      <td>...</td>\n",
       "      <td>...</td>\n",
       "      <td>...</td>\n",
       "      <td>...</td>\n",
       "      <td>...</td>\n",
       "      <td>...</td>\n",
       "    </tr>\n",
       "    <tr>\n",
       "      <th>121</th>\n",
       "      <td>20240201</td>\n",
       "      <td>37.902168</td>\n",
       "      <td>0.020212</td>\n",
       "      <td>1706745600000</td>\n",
       "      <td>0.51</td>\n",
       "      <td>12</td>\n",
       "      <td>2024-02-01</td>\n",
       "    </tr>\n",
       "    <tr>\n",
       "      <th>122</th>\n",
       "      <td>20240301</td>\n",
       "      <td>37.902168</td>\n",
       "      <td>0.020212</td>\n",
       "      <td>1709251200000</td>\n",
       "      <td>0.37</td>\n",
       "      <td>10</td>\n",
       "      <td>2024-03-01</td>\n",
       "    </tr>\n",
       "    <tr>\n",
       "      <th>123</th>\n",
       "      <td>20240401</td>\n",
       "      <td>37.902168</td>\n",
       "      <td>0.020212</td>\n",
       "      <td>1711929600000</td>\n",
       "      <td>0</td>\n",
       "      <td>0</td>\n",
       "      <td>2024-04-01</td>\n",
       "    </tr>\n",
       "    <tr>\n",
       "      <th>124</th>\n",
       "      <td>20240501</td>\n",
       "      <td>37.902168</td>\n",
       "      <td>0.020212</td>\n",
       "      <td>1714521600000</td>\n",
       "      <td>0.35</td>\n",
       "      <td>3</td>\n",
       "      <td>2024-05-01</td>\n",
       "    </tr>\n",
       "    <tr>\n",
       "      <th>125</th>\n",
       "      <td>20240604</td>\n",
       "      <td>37.902168</td>\n",
       "      <td>0.020212</td>\n",
       "      <td>1717459200000</td>\n",
       "      <td>0.33</td>\n",
       "      <td>6</td>\n",
       "      <td>2024-06-04</td>\n",
       "    </tr>\n",
       "  </tbody>\n",
       "</table>\n",
       "<p>126 rows × 7 columns</p>\n",
       "</div>"
      ],
      "text/plain": [
       "0          id  longitude  latitude           time   avg_rad cf_cvg   datetime\n",
       "0    20140101  37.902168  0.020212  1388534400000  0.025511     15 2014-01-01\n",
       "1    20140201  37.902168  0.020212  1391212800000   0.08641     12 2014-02-01\n",
       "2    20140301  37.902168  0.020212  1393632000000  0.327529     11 2014-03-01\n",
       "3    20140401  37.902168  0.020212  1396310400000  0.263549      7 2014-04-01\n",
       "4    20140501  37.902168  0.020212  1398902400000  0.031875      7 2014-05-01\n",
       "..        ...        ...       ...            ...       ...    ...        ...\n",
       "121  20240201  37.902168  0.020212  1706745600000      0.51     12 2024-02-01\n",
       "122  20240301  37.902168  0.020212  1709251200000      0.37     10 2024-03-01\n",
       "123  20240401  37.902168  0.020212  1711929600000         0      0 2024-04-01\n",
       "124  20240501  37.902168  0.020212  1714521600000      0.35      3 2024-05-01\n",
       "125  20240604  37.902168  0.020212  1717459200000      0.33      6 2024-06-04\n",
       "\n",
       "[126 rows x 7 columns]"
      ]
     },
     "execution_count": 32,
     "metadata": {},
     "output_type": "execute_result"
    }
   ],
   "source": [
    "poi = ee.Geometry.Point(longitude, latitude)\n",
    "scale = 500\n",
    "viirs_poi = data.getRegion(poi, scale).getInfo()\n",
    "\n",
    "df_columns = pd.DataFrame(viirs_poi).iloc[0]\n",
    "df_data = pd.DataFrame(viirs_poi).values[1:]\n",
    "df = pd.DataFrame(df_data, columns = df_columns)\n",
    "df['datetime'] = pd.to_datetime(df['time'], unit='ms') #default time is in epoch which is milliseconds since 1970-01-01\n",
    "df\n"
   ]
  },
  {
   "cell_type": "markdown",
   "metadata": {},
   "source": [
    "4.1) Plot trends over time"
   ]
  },
  {
   "cell_type": "code",
   "execution_count": 33,
   "metadata": {},
   "outputs": [
    {
     "data": {
      "text/html": [
       "\n",
       "            <style>\n",
       "                .geemap-dark {\n",
       "                    --jp-widgets-color: white;\n",
       "                    --jp-widgets-label-color: white;\n",
       "                    --jp-ui-font-color1: white;\n",
       "                    --jp-layout-color2: #454545;\n",
       "                    background-color: #383838;\n",
       "                }\n",
       "\n",
       "                .geemap-dark .jupyter-button {\n",
       "                    --jp-layout-color3: #383838;\n",
       "                }\n",
       "\n",
       "                .geemap-colab {\n",
       "                    background-color: var(--colab-primary-surface-color, white);\n",
       "                }\n",
       "\n",
       "                .geemap-colab .jupyter-button {\n",
       "                    --jp-layout-color3: var(--colab-primary-surface-color, white);\n",
       "                }\n",
       "            </style>\n",
       "            "
      ],
      "text/plain": [
       "<IPython.core.display.HTML object>"
      ]
     },
     "metadata": {},
     "output_type": "display_data"
    },
    {
     "data": {
      "text/plain": [
       "Text(0, 0.5, 'Date')"
      ]
     },
     "execution_count": 33,
     "metadata": {},
     "output_type": "execute_result"
    },
    {
     "data": {
      "image/png": "[encoded data removed]",
      "text/plain": [
       "<Figure size 640x480 with 1 Axes>"
      ]
     },
     "metadata": {},
     "output_type": "display_data"
    }
   ],
   "source": [
    "custom_params = {\"axes.spines.right\": False, \"axes.spines.top\": False}\n",
    "sns.set_theme(style=\"ticks\", rc=custom_params)\n",
    "sns.lineplot(x = 'datetime', y = 'avg_rad', data = df).set_title(\"Kenya Average Radition Over Time\")\n",
    "plt.xlabel(\"Average Radition\")\n",
    "plt.ylabel(\"Date\")"
   ]
  },
  {
   "cell_type": "code",
   "execution_count": null,
   "metadata": {},
   "outputs": [],
   "source": []
  }
 ],
 "metadata": {
  "kernelspec": {
   "display_name": "Python 3",
   "language": "python",
   "name": "python3"
  },
  "language_info": {
   "codemirror_mode": {
    "name": "ipython",
    "version": 3
   },
   "file_extension": ".py",
   "mimetype": "text/x-python",
   "name": "python",
   "nbconvert_exporter": "python",
   "pygments_lexer": "ipython3",
   "version": "3.12.6"
  }
 },
 "nbformat": 4,
 "nbformat_minor": 2
}
